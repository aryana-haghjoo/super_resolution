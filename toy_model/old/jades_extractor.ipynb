{
 "cells": [
  {
   "cell_type": "code",
   "execution_count": 4,
   "metadata": {},
   "outputs": [
    {
     "name": "stderr",
     "output_type": "stream",
     "text": [
      "/var/folders/4p/2g870fps1s16m6ggm5f64thm0000gn/T/ipykernel_2208/3751048295.py:18: DeprecationWarning: Python 3.14 will, by default, filter extracted tar archives and reject files or modify their metadata. Use the filter argument to control this behavior.\n",
      "  tar.extractall(output_dir)\n"
     ]
    },
    {
     "name": "stdout",
     "output_type": "stream",
     "text": [
      "Extracted hlsp_jades_jwst_nirspec_f170lp-g235m.tar.xz to /Users/aryanahaghjoo/Documents/GitHub/super_resolution/data/JADES/JADES_spectra_unzipped\n",
      "Extracted hlsp_jades_jwst_nirspec_f070lp-g140m.tar.xz to /Users/aryanahaghjoo/Documents/GitHub/super_resolution/data/JADES/JADES_spectra_unzipped\n",
      "Extracted hlsp_jades_jwst_nirspec_f290lp-g395m.tar.xz to /Users/aryanahaghjoo/Documents/GitHub/super_resolution/data/JADES/JADES_spectra_unzipped\n",
      "Extracted hlsp_jades_jwst_nirspec_clear-prism.tar.xz to /Users/aryanahaghjoo/Documents/GitHub/super_resolution/data/JADES/JADES_spectra_unzipped\n",
      "Extraction complete!\n"
     ]
    }
   ],
   "source": [
    "import os\n",
    "import tarfile\n",
    "\n",
    "# Define paths\n",
    "base_dir = \"/Users/aryanahaghjoo/Documents/GitHub/super_resolution/data/JADES\"\n",
    "output_dir = os.path.join(base_dir, \"JADES_spectra_unzipped\")\n",
    "\n",
    "# Create the output directory if it doesn't exist\n",
    "os.makedirs(output_dir, exist_ok=True)\n",
    "\n",
    "# Get all .tar.xz files in the directory\n",
    "files = [f for f in os.listdir(base_dir) if f.endswith(\".tar.xz\")]\n",
    "\n",
    "# Extract each file\n",
    "for file in files:\n",
    "    file_path = os.path.join(base_dir, file)\n",
    "    with tarfile.open(file_path, \"r:xz\") as tar:\n",
    "        tar.extractall(output_dir)\n",
    "        print(f\"Extracted {file} to {output_dir}\")\n",
    "\n",
    "print(\"Extraction complete!\")"
   ]
  }
 ],
 "metadata": {
  "kernelspec": {
   "display_name": "super_reso",
   "language": "python",
   "name": "python3"
  },
  "language_info": {
   "codemirror_mode": {
    "name": "ipython",
    "version": 3
   },
   "file_extension": ".py",
   "mimetype": "text/x-python",
   "name": "python",
   "nbconvert_exporter": "python",
   "pygments_lexer": "ipython3",
   "version": "3.13.1"
  }
 },
 "nbformat": 4,
 "nbformat_minor": 2
}
